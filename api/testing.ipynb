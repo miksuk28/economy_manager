{
 "cells": [
  {
   "cell_type": "code",
   "execution_count": 1,
   "metadata": {},
   "outputs": [
    {
     "ename": "ValidationError",
     "evalue": "'item' is a required property\n\nFailed validating 'required' in schema['properties']['products']['items']:\n    {'properties': {'item': {'type': 'string'},\n                    'price': {'type': 'number'},\n                    'quantity': {'type': 'number'}},\n     'required': ['item', 'price', 'quantity'],\n     'type': 'object'}\n\nOn instance['products'][0]:\n    {'test': 'TEST', 'test2': 1}",
     "output_type": "error",
     "traceback": [
      "\u001b[0;31m---------------------------------------------------------------------------\u001b[0m",
      "\u001b[0;31mValidationError\u001b[0m                           Traceback (most recent call last)",
      "\u001b[1;32m/home/mikhail/Programming/Python/economy/testing.ipynb Cell 1'\u001b[0m in \u001b[0;36m<cell line: 34>\u001b[0;34m()\u001b[0m\n\u001b[1;32m      <a href='vscode-notebook-cell:/home/mikhail/Programming/Python/economy/testing.ipynb#ch0000003?line=2'>3</a>\u001b[0m schema \u001b[39m=\u001b[39m {\n\u001b[1;32m      <a href='vscode-notebook-cell:/home/mikhail/Programming/Python/economy/testing.ipynb#ch0000003?line=3'>4</a>\u001b[0m     \u001b[39m\"\u001b[39m\u001b[39mtype\u001b[39m\u001b[39m\"\u001b[39m: \u001b[39m\"\u001b[39m\u001b[39mobject\u001b[39m\u001b[39m\"\u001b[39m,\n\u001b[1;32m      <a href='vscode-notebook-cell:/home/mikhail/Programming/Python/economy/testing.ipynb#ch0000003?line=4'>5</a>\u001b[0m     \u001b[39m\"\u001b[39m\u001b[39mproperties\u001b[39m\u001b[39m\"\u001b[39m: {\n\u001b[0;32m   (...)\u001b[0m\n\u001b[1;32m     <a href='vscode-notebook-cell:/home/mikhail/Programming/Python/economy/testing.ipynb#ch0000003?line=21'>22</a>\u001b[0m     \u001b[39m\"\u001b[39m\u001b[39mrequired\u001b[39m\u001b[39m\"\u001b[39m: [\u001b[39m\"\u001b[39m\u001b[39mproducts\u001b[39m\u001b[39m\"\u001b[39m]\n\u001b[1;32m     <a href='vscode-notebook-cell:/home/mikhail/Programming/Python/economy/testing.ipynb#ch0000003?line=22'>23</a>\u001b[0m }\n\u001b[1;32m     <a href='vscode-notebook-cell:/home/mikhail/Programming/Python/economy/testing.ipynb#ch0000003?line=24'>25</a>\u001b[0m result \u001b[39m=\u001b[39m {\n\u001b[1;32m     <a href='vscode-notebook-cell:/home/mikhail/Programming/Python/economy/testing.ipynb#ch0000003?line=25'>26</a>\u001b[0m     \u001b[39m\"\u001b[39m\u001b[39mstore\u001b[39m\u001b[39m\"\u001b[39m: \u001b[39m\"\u001b[39m\u001b[39mExtraTEST\u001b[39m\u001b[39m\"\u001b[39m,\n\u001b[1;32m     <a href='vscode-notebook-cell:/home/mikhail/Programming/Python/economy/testing.ipynb#ch0000003?line=26'>27</a>\u001b[0m     \u001b[39m\"\u001b[39m\u001b[39mproducts\u001b[39m\u001b[39m\"\u001b[39m: [\n\u001b[0;32m   (...)\u001b[0m\n\u001b[1;32m     <a href='vscode-notebook-cell:/home/mikhail/Programming/Python/economy/testing.ipynb#ch0000003?line=30'>31</a>\u001b[0m     ]\n\u001b[1;32m     <a href='vscode-notebook-cell:/home/mikhail/Programming/Python/economy/testing.ipynb#ch0000003?line=31'>32</a>\u001b[0m }\n\u001b[0;32m---> <a href='vscode-notebook-cell:/home/mikhail/Programming/Python/economy/testing.ipynb#ch0000003?line=33'>34</a>\u001b[0m validate(schema\u001b[39m=\u001b[39;49mschema, instance\u001b[39m=\u001b[39;49mresult)\n",
      "File \u001b[0;32m~/.local/lib/python3.10/site-packages/jsonschema/validators.py:1058\u001b[0m, in \u001b[0;36mvalidate\u001b[0;34m(instance, schema, cls, *args, **kwargs)\u001b[0m\n\u001b[1;32m   1056\u001b[0m error \u001b[39m=\u001b[39m exceptions\u001b[39m.\u001b[39mbest_match(validator\u001b[39m.\u001b[39miter_errors(instance))\n\u001b[1;32m   1057\u001b[0m \u001b[39mif\u001b[39;00m error \u001b[39mis\u001b[39;00m \u001b[39mnot\u001b[39;00m \u001b[39mNone\u001b[39;00m:\n\u001b[0;32m-> 1058\u001b[0m     \u001b[39mraise\u001b[39;00m error\n",
      "\u001b[0;31mValidationError\u001b[0m: 'item' is a required property\n\nFailed validating 'required' in schema['properties']['products']['items']:\n    {'properties': {'item': {'type': 'string'},\n                    'price': {'type': 'number'},\n                    'quantity': {'type': 'number'}},\n     'required': ['item', 'price', 'quantity'],\n     'type': 'object'}\n\nOn instance['products'][0]:\n    {'test': 'TEST', 'test2': 1}"
     ]
    }
   ],
   "source": [
    "from jsonschema import validate\n",
    "\n",
    "schema = {\n",
    "    \"type\": \"object\",\n",
    "    \"properties\": {\n",
    "        \"store\":        {\"type\": \"string\"},\n",
    "        \"comment\":      {\"type\": \"string\"},\n",
    "        \"timestamp\":    {\"type\": \"integer\"},\n",
    "        \"products\": {\n",
    "            \"type\": \"array\",\n",
    "            \"items\": {\n",
    "                \"type\": \"object\",\n",
    "                \"properties\": {\n",
    "                    \"item\": {\"type\": \"string\"},\n",
    "                    \"price\": {\"type\": \"number\"},\n",
    "                    \"quantity\": {\"type\": \"number\"}\n",
    "                },\n",
    "                \"required\": [\"item\", \"price\", \"quantity\"]\n",
    "            }\n",
    "        }\n",
    "    },\n",
    "    \"required\": [\"products\"]\n",
    "}\n",
    "\n",
    "result = {\n",
    "    \"store\": \"ExtraTEST\",\n",
    "    \"products\": [\n",
    "        {\"test\": \"TEST\", \"test2\": 1},\n",
    "        {\"test\": \"TEST\", \"test2\": 1},\n",
    "        {\"test\": \"TEST\", \"test2\": 1}\n",
    "    ]\n",
    "}\n",
    "\n",
    "validate(schema=schema, instance=result)"
   ]
  },
  {
   "cell_type": "code",
   "execution_count": null,
   "metadata": {},
   "outputs": [],
   "source": [
    "result = {\n",
    "    \"store\": \"ExtraTEST\",\n",
    "    \"products\": [\n",
    "        {\"name\": \"TEST\", \"price\": 1, \"quantity\": 1},\n",
    "        {\"name\": \"TEST1\", \"price\": 2, \"quantity\": 1}\n",
    "    ]\n",
    "}"
   ]
  },
  {
   "cell_type": "code",
   "execution_count": null,
   "metadata": {},
   "outputs": [],
   "source": [
    "validate(instance=result, schema=create_receipt)"
   ]
  }
 ],
 "metadata": {
  "kernelspec": {
   "display_name": "Python 3.10.6 64-bit",
   "language": "python",
   "name": "python3"
  },
  "language_info": {
   "codemirror_mode": {
    "name": "ipython",
    "version": 3
   },
   "file_extension": ".py",
   "mimetype": "text/x-python",
   "name": "python",
   "nbconvert_exporter": "python",
   "pygments_lexer": "ipython3",
   "version": "3.10.6"
  },
  "orig_nbformat": 4,
  "vscode": {
   "interpreter": {
    "hash": "e7370f93d1d0cde622a1f8e1c04877d8463912d04d973331ad4851f04de6915a"
   }
  }
 },
 "nbformat": 4,
 "nbformat_minor": 2
}
