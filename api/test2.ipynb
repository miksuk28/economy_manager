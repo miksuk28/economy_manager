{
 "cells": [
  {
   "cell_type": "code",
   "execution_count": 1,
   "metadata": {},
   "outputs": [],
   "source": [
    "import sqlite3\n",
    "import json\n",
    "from pprint import pprint\n",
    "\n",
    "def list_and_dictify(items, one=False):\n",
    "    if items is None:\n",
    "        return None\n",
    "    \n",
    "    elif one:\n",
    "        return dict(items)\n",
    "\n",
    "    new_list = []\n",
    "    for row in items:\n",
    "        new_list.append(dict(row))\n",
    "\n",
    "    return new_list\n",
    "\n",
    "\n",
    "conn = sqlite3.connect(\"data.db\")\n",
    "conn.row_factory = sqlite3.Row\n",
    "\n",
    "cur = conn.cursor()\n",
    "cur.execute(\"SELECT * FROM receipts\")\n",
    "receipts = list_and_dictify(items=cur.fetchall())\n",
    "\n",
    "cur.execute(\n",
    "    '''\n",
    "    SELECT receipts.id AS receipt_id,\n",
    "           store, item, price, quantity\n",
    "    FROM receipts_junction\n",
    "    JOIN receipts ON receipt_id=receipts.id\n",
    "    '''\n",
    ")\n",
    "items = list_and_dictify(cur.fetchall())\n"
   ]
  },
  {
   "cell_type": "code",
   "execution_count": 2,
   "metadata": {},
   "outputs": [],
   "source": [
    "def group_by_id(id, items):\n",
    "    new_list = []\n",
    "    for i, item in enumerate(items):\n",
    "        if item[\"receipt_id\"] == id:\n",
    "            new_list.append(items.pop(i))\n",
    "\n",
    "    return new_list\n",
    "\n",
    "\n",
    "full_list = group_by_id(33, items)\n",
    "\n",
    "\n",
    "def create_full(receipts, items):\n",
    "    for i, receipt in enumerate(receipts):\n",
    "        new_list = group_by_id(receipt[\"id\"], items)\n",
    "        receipts[i][\"products\"] = new_list\n",
    "\n",
    "    return receipts\n",
    "\n",
    "full_list = create_full(receipts, items)\n",
    "#pprint(full_list)\n",
    "\n",
    "with open(\"dumped_data\", \"w\") as f:\n",
    "    if True:\n",
    "        f.write(json.dumps(full_list))"
   ]
  }
 ],
 "metadata": {
  "kernelspec": {
   "display_name": "Python 3.10.6 64-bit",
   "language": "python",
   "name": "python3"
  },
  "language_info": {
   "codemirror_mode": {
    "name": "ipython",
    "version": 3
   },
   "file_extension": ".py",
   "mimetype": "text/x-python",
   "name": "python",
   "nbconvert_exporter": "python",
   "pygments_lexer": "ipython3",
   "version": "3.10.6"
  },
  "orig_nbformat": 4,
  "vscode": {
   "interpreter": {
    "hash": "e7370f93d1d0cde622a1f8e1c04877d8463912d04d973331ad4851f04de6915a"
   }
  }
 },
 "nbformat": 4,
 "nbformat_minor": 2
}
